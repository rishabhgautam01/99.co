{
 "cells": [
  {
   "cell_type": "code",
   "execution_count": 1,
   "metadata": {},
   "outputs": [],
   "source": [
    "import pandas as pd\n",
    "import matplotlib.pyplot as plt\n",
    "import numpy as np"
   ]
  },
  {
   "cell_type": "code",
   "execution_count": 2,
   "metadata": {},
   "outputs": [],
   "source": [
    "df=pd.read_csv(\"private-residential-property-price-index-by-type-of-property-base-quarter-2009-q1-100.csv\")"
   ]
  },
  {
   "cell_type": "code",
   "execution_count": 3,
   "metadata": {},
   "outputs": [
    {
     "data": {
      "text/html": [
       "<div>\n",
       "<style scoped>\n",
       "    .dataframe tbody tr th:only-of-type {\n",
       "        vertical-align: middle;\n",
       "    }\n",
       "\n",
       "    .dataframe tbody tr th {\n",
       "        vertical-align: top;\n",
       "    }\n",
       "\n",
       "    .dataframe thead th {\n",
       "        text-align: right;\n",
       "    }\n",
       "</style>\n",
       "<table border=\"1\" class=\"dataframe\">\n",
       "  <thead>\n",
       "    <tr style=\"text-align: right;\">\n",
       "      <th></th>\n",
       "      <th>quarter</th>\n",
       "      <th>level_1</th>\n",
       "      <th>level_2</th>\n",
       "      <th>value</th>\n",
       "    </tr>\n",
       "  </thead>\n",
       "  <tbody>\n",
       "    <tr>\n",
       "      <th>0</th>\n",
       "      <td>1975-Q1</td>\n",
       "      <td>Residential Properties</td>\n",
       "      <td>Landed</td>\n",
       "      <td>7.4</td>\n",
       "    </tr>\n",
       "    <tr>\n",
       "      <th>1</th>\n",
       "      <td>1975-Q1</td>\n",
       "      <td>Residential Properties</td>\n",
       "      <td>Non-landed</td>\n",
       "      <td>10.5</td>\n",
       "    </tr>\n",
       "    <tr>\n",
       "      <th>2</th>\n",
       "      <td>1975-Q2</td>\n",
       "      <td>Residential Properties</td>\n",
       "      <td>Landed</td>\n",
       "      <td>7.7</td>\n",
       "    </tr>\n",
       "    <tr>\n",
       "      <th>3</th>\n",
       "      <td>1975-Q2</td>\n",
       "      <td>Residential Properties</td>\n",
       "      <td>Non-landed</td>\n",
       "      <td>11.2</td>\n",
       "    </tr>\n",
       "    <tr>\n",
       "      <th>4</th>\n",
       "      <td>1975-Q3</td>\n",
       "      <td>Residential Properties</td>\n",
       "      <td>Landed</td>\n",
       "      <td>7.8</td>\n",
       "    </tr>\n",
       "  </tbody>\n",
       "</table>\n",
       "</div>"
      ],
      "text/plain": [
       "   quarter                 level_1     level_2  value\n",
       "0  1975-Q1  Residential Properties      Landed    7.4\n",
       "1  1975-Q1  Residential Properties  Non-landed   10.5\n",
       "2  1975-Q2  Residential Properties      Landed    7.7\n",
       "3  1975-Q2  Residential Properties  Non-landed   11.2\n",
       "4  1975-Q3  Residential Properties      Landed    7.8"
      ]
     },
     "execution_count": 3,
     "metadata": {},
     "output_type": "execute_result"
    }
   ],
   "source": [
    "df.head()"
   ]
  },
  {
   "cell_type": "code",
   "execution_count": 4,
   "metadata": {},
   "outputs": [],
   "source": [
    "# This Data has been Modified (categorical parts ):\n",
    "df=pd.read_csv(\"modified_Data.csv\")"
   ]
  },
  {
   "cell_type": "code",
   "execution_count": 5,
   "metadata": {},
   "outputs": [
    {
     "data": {
      "text/html": [
       "<div>\n",
       "<style scoped>\n",
       "    .dataframe tbody tr th:only-of-type {\n",
       "        vertical-align: middle;\n",
       "    }\n",
       "\n",
       "    .dataframe tbody tr th {\n",
       "        vertical-align: top;\n",
       "    }\n",
       "\n",
       "    .dataframe thead th {\n",
       "        text-align: right;\n",
       "    }\n",
       "</style>\n",
       "<table border=\"1\" class=\"dataframe\">\n",
       "  <thead>\n",
       "    <tr style=\"text-align: right;\">\n",
       "      <th></th>\n",
       "      <th>Year</th>\n",
       "      <th>Quarter</th>\n",
       "      <th>level_1</th>\n",
       "      <th>level_2</th>\n",
       "      <th>value</th>\n",
       "    </tr>\n",
       "  </thead>\n",
       "  <tbody>\n",
       "    <tr>\n",
       "      <th>0</th>\n",
       "      <td>1975</td>\n",
       "      <td>1</td>\n",
       "      <td>1</td>\n",
       "      <td>1</td>\n",
       "      <td>7.4</td>\n",
       "    </tr>\n",
       "    <tr>\n",
       "      <th>1</th>\n",
       "      <td>1975</td>\n",
       "      <td>1</td>\n",
       "      <td>1</td>\n",
       "      <td>0</td>\n",
       "      <td>10.5</td>\n",
       "    </tr>\n",
       "    <tr>\n",
       "      <th>2</th>\n",
       "      <td>1975</td>\n",
       "      <td>2</td>\n",
       "      <td>1</td>\n",
       "      <td>1</td>\n",
       "      <td>7.7</td>\n",
       "    </tr>\n",
       "    <tr>\n",
       "      <th>3</th>\n",
       "      <td>1975</td>\n",
       "      <td>2</td>\n",
       "      <td>1</td>\n",
       "      <td>0</td>\n",
       "      <td>11.2</td>\n",
       "    </tr>\n",
       "    <tr>\n",
       "      <th>4</th>\n",
       "      <td>1975</td>\n",
       "      <td>3</td>\n",
       "      <td>1</td>\n",
       "      <td>1</td>\n",
       "      <td>7.8</td>\n",
       "    </tr>\n",
       "  </tbody>\n",
       "</table>\n",
       "</div>"
      ],
      "text/plain": [
       "   Year  Quarter  level_1  level_2  value\n",
       "0  1975        1        1        1    7.4\n",
       "1  1975        1        1        0   10.5\n",
       "2  1975        2        1        1    7.7\n",
       "3  1975        2        1        0   11.2\n",
       "4  1975        3        1        1    7.8"
      ]
     },
     "execution_count": 5,
     "metadata": {},
     "output_type": "execute_result"
    }
   ],
   "source": [
    "df.head()"
   ]
  },
  {
   "cell_type": "code",
   "execution_count": 6,
   "metadata": {},
   "outputs": [
    {
     "data": {
      "text/html": [
       "<div>\n",
       "<style scoped>\n",
       "    .dataframe tbody tr th:only-of-type {\n",
       "        vertical-align: middle;\n",
       "    }\n",
       "\n",
       "    .dataframe tbody tr th {\n",
       "        vertical-align: top;\n",
       "    }\n",
       "\n",
       "    .dataframe thead th {\n",
       "        text-align: right;\n",
       "    }\n",
       "</style>\n",
       "<table border=\"1\" class=\"dataframe\">\n",
       "  <thead>\n",
       "    <tr style=\"text-align: right;\">\n",
       "      <th></th>\n",
       "      <th>Year</th>\n",
       "      <th>Quarter</th>\n",
       "      <th>level_2</th>\n",
       "      <th>value</th>\n",
       "    </tr>\n",
       "  </thead>\n",
       "  <tbody>\n",
       "    <tr>\n",
       "      <th>0</th>\n",
       "      <td>1975</td>\n",
       "      <td>1</td>\n",
       "      <td>1</td>\n",
       "      <td>7.4</td>\n",
       "    </tr>\n",
       "    <tr>\n",
       "      <th>1</th>\n",
       "      <td>1975</td>\n",
       "      <td>1</td>\n",
       "      <td>0</td>\n",
       "      <td>10.5</td>\n",
       "    </tr>\n",
       "    <tr>\n",
       "      <th>2</th>\n",
       "      <td>1975</td>\n",
       "      <td>2</td>\n",
       "      <td>1</td>\n",
       "      <td>7.7</td>\n",
       "    </tr>\n",
       "    <tr>\n",
       "      <th>3</th>\n",
       "      <td>1975</td>\n",
       "      <td>2</td>\n",
       "      <td>0</td>\n",
       "      <td>11.2</td>\n",
       "    </tr>\n",
       "    <tr>\n",
       "      <th>4</th>\n",
       "      <td>1975</td>\n",
       "      <td>3</td>\n",
       "      <td>1</td>\n",
       "      <td>7.8</td>\n",
       "    </tr>\n",
       "  </tbody>\n",
       "</table>\n",
       "</div>"
      ],
      "text/plain": [
       "   Year  Quarter  level_2  value\n",
       "0  1975        1        1    7.4\n",
       "1  1975        1        0   10.5\n",
       "2  1975        2        1    7.7\n",
       "3  1975        2        0   11.2\n",
       "4  1975        3        1    7.8"
      ]
     },
     "execution_count": 6,
     "metadata": {},
     "output_type": "execute_result"
    }
   ],
   "source": [
    "df=df.drop(columns=['level_1'])\n",
    "df.head()"
   ]
  },
  {
   "cell_type": "code",
   "execution_count": 7,
   "metadata": {},
   "outputs": [
    {
     "data": {
      "text/html": [
       "<div>\n",
       "<style scoped>\n",
       "    .dataframe tbody tr th:only-of-type {\n",
       "        vertical-align: middle;\n",
       "    }\n",
       "\n",
       "    .dataframe tbody tr th {\n",
       "        vertical-align: top;\n",
       "    }\n",
       "\n",
       "    .dataframe thead th {\n",
       "        text-align: right;\n",
       "    }\n",
       "</style>\n",
       "<table border=\"1\" class=\"dataframe\">\n",
       "  <thead>\n",
       "    <tr style=\"text-align: right;\">\n",
       "      <th></th>\n",
       "      <th>Year</th>\n",
       "      <th>Quarter</th>\n",
       "      <th>level_2</th>\n",
       "      <th>value</th>\n",
       "    </tr>\n",
       "  </thead>\n",
       "  <tbody>\n",
       "    <tr>\n",
       "      <th>count</th>\n",
       "      <td>356.000000</td>\n",
       "      <td>356.000000</td>\n",
       "      <td>356.000000</td>\n",
       "      <td>356.000000</td>\n",
       "    </tr>\n",
       "    <tr>\n",
       "      <th>mean</th>\n",
       "      <td>1996.752809</td>\n",
       "      <td>2.488764</td>\n",
       "      <td>0.500000</td>\n",
       "      <td>80.600000</td>\n",
       "    </tr>\n",
       "    <tr>\n",
       "      <th>std</th>\n",
       "      <td>12.865747</td>\n",
       "      <td>1.119551</td>\n",
       "      <td>0.500704</td>\n",
       "      <td>50.369036</td>\n",
       "    </tr>\n",
       "    <tr>\n",
       "      <th>min</th>\n",
       "      <td>1975.000000</td>\n",
       "      <td>1.000000</td>\n",
       "      <td>0.000000</td>\n",
       "      <td>7.400000</td>\n",
       "    </tr>\n",
       "    <tr>\n",
       "      <th>25%</th>\n",
       "      <td>1986.000000</td>\n",
       "      <td>1.000000</td>\n",
       "      <td>0.000000</td>\n",
       "      <td>33.675000</td>\n",
       "    </tr>\n",
       "    <tr>\n",
       "      <th>50%</th>\n",
       "      <td>1997.000000</td>\n",
       "      <td>2.000000</td>\n",
       "      <td>0.500000</td>\n",
       "      <td>83.250000</td>\n",
       "    </tr>\n",
       "    <tr>\n",
       "      <th>75%</th>\n",
       "      <td>2008.000000</td>\n",
       "      <td>3.000000</td>\n",
       "      <td>1.000000</td>\n",
       "      <td>125.800000</td>\n",
       "    </tr>\n",
       "    <tr>\n",
       "      <th>max</th>\n",
       "      <td>2019.000000</td>\n",
       "      <td>4.000000</td>\n",
       "      <td>1.000000</td>\n",
       "      <td>178.900000</td>\n",
       "    </tr>\n",
       "  </tbody>\n",
       "</table>\n",
       "</div>"
      ],
      "text/plain": [
       "              Year     Quarter     level_2       value\n",
       "count   356.000000  356.000000  356.000000  356.000000\n",
       "mean   1996.752809    2.488764    0.500000   80.600000\n",
       "std      12.865747    1.119551    0.500704   50.369036\n",
       "min    1975.000000    1.000000    0.000000    7.400000\n",
       "25%    1986.000000    1.000000    0.000000   33.675000\n",
       "50%    1997.000000    2.000000    0.500000   83.250000\n",
       "75%    2008.000000    3.000000    1.000000  125.800000\n",
       "max    2019.000000    4.000000    1.000000  178.900000"
      ]
     },
     "execution_count": 7,
     "metadata": {},
     "output_type": "execute_result"
    }
   ],
   "source": [
    "df.describe()"
   ]
  },
  {
   "cell_type": "code",
   "execution_count": 8,
   "metadata": {},
   "outputs": [
    {
     "name": "stdout",
     "output_type": "stream",
     "text": [
      "<class 'pandas.core.frame.DataFrame'>\n",
      "RangeIndex: 356 entries, 0 to 355\n",
      "Data columns (total 4 columns):\n",
      "Year       356 non-null int64\n",
      "Quarter    356 non-null int64\n",
      "level_2    356 non-null int64\n",
      "value      356 non-null float64\n",
      "dtypes: float64(1), int64(3)\n",
      "memory usage: 11.2 KB\n"
     ]
    }
   ],
   "source": [
    "df.info()"
   ]
  },
  {
   "cell_type": "code",
   "execution_count": 9,
   "metadata": {},
   "outputs": [],
   "source": [
    "X = df.iloc[:,0:3].values"
   ]
  },
  {
   "cell_type": "code",
   "execution_count": 10,
   "metadata": {},
   "outputs": [
    {
     "data": {
      "text/plain": [
       "array([[1975,    1,    1],\n",
       "       [1975,    1,    0],\n",
       "       [1975,    2,    1],\n",
       "       ...,\n",
       "       [2019,    1,    0],\n",
       "       [2019,    2,    1],\n",
       "       [2019,    2,    0]], dtype=int64)"
      ]
     },
     "execution_count": 10,
     "metadata": {},
     "output_type": "execute_result"
    }
   ],
   "source": [
    "X"
   ]
  },
  {
   "cell_type": "code",
   "execution_count": 21,
   "metadata": {},
   "outputs": [],
   "source": [
    "y=df.iloc[:,3:].values"
   ]
  },
  {
   "cell_type": "code",
   "execution_count": 29,
   "metadata": {},
   "outputs": [],
   "source": [
    "from sklearn.model_selection import train_test_split\n",
    "X_train, X_test, y_train, y_test = train_test_split(X, y, test_size = 0.5, random_state = 0)"
   ]
  },
  {
   "cell_type": "code",
   "execution_count": 30,
   "metadata": {},
   "outputs": [
    {
     "name": "stderr",
     "output_type": "stream",
     "text": [
      "c:\\users\\kiit\\appdata\\local\\programs\\python\\python37-32\\lib\\site-packages\\sklearn\\utils\\validation.py:724: DataConversionWarning: A column-vector y was passed when a 1d array was expected. Please change the shape of y to (n_samples, ), for example using ravel().\n",
      "  y = column_or_1d(y, warn=True)\n"
     ]
    }
   ],
   "source": [
    "from sklearn.svm import SVR\n",
    "svr_rbf = SVR(kernel='rbf', C=1e3, gamma=0.1)\n",
    "y_rbf = svr_rbf.fit(X_train, y_train)\n",
    "y_pred=y_rbf.predict(X_test)"
   ]
  },
  {
   "cell_type": "code",
   "execution_count": 31,
   "metadata": {},
   "outputs": [
    {
     "data": {
      "text/plain": [
       "array([  9.08374006,  58.85977114, 176.42774703,  84.17704985,\n",
       "        29.14089819,  78.47225426,  35.50233455,  29.67993145,\n",
       "        15.20991022, 175.98253633,   6.5101068 , 154.60260259,\n",
       "        85.34636638, 130.13719703,  50.93028354,  86.99729228,\n",
       "        48.48513567, 147.71631191,  40.41019648, 101.18905298,\n",
       "        96.19313918, 179.74247078,  29.60299308,  83.41979905,\n",
       "        83.37263167, 136.44289299,  29.4580347 ,  32.15458139,\n",
       "        11.35388978,  30.93406108, 161.79561132,  41.87366931,\n",
       "        25.80685505,  41.90054355,  25.72644789, 153.28384466,\n",
       "        84.92577407,  28.56269432,  92.04591266,  35.48660056,\n",
       "         9.32976894,  80.40160802, 114.96787943,  92.97318274,\n",
       "        84.12964544, 178.0607911 ,  33.69922357,  30.20532781,\n",
       "        31.6948262 , 102.42322504, 122.62374808,  93.26729986,\n",
       "        99.83789097,  92.02843452,  12.41890177,  38.02553407,\n",
       "        90.64121856,  85.28213824, 109.12025532,  81.95435875,\n",
       "        43.69175997,  27.95998847,  49.00006351,  33.0751986 ,\n",
       "        36.69986295,  83.59310266,  96.89211433, 132.82341718,\n",
       "       107.51569563,  83.33689161,  44.10738759, 146.73987254,\n",
       "        83.89804006, 173.6463048 , 132.66849532,  60.33665439,\n",
       "        11.54958787, 144.8024182 ,  53.53436944,  30.58981991,\n",
       "       143.99748123, 149.05713404, 117.77659667,  93.27638904,\n",
       "       100.23180847,  31.29606461,   8.34078137,  38.52867455,\n",
       "        27.40058422,  67.36684423,  46.85576696,  32.42500927,\n",
       "       105.08868052,   8.50638843,  36.64269665,  71.78678043,\n",
       "       132.25937492, 127.10255407,  13.03920342,  75.8323646 ,\n",
       "       160.47165703, 164.90429261,  81.18663238, 141.57856289,\n",
       "        29.16682439,  77.33206394,  96.26477999, 156.29197666,\n",
       "        40.46186096, 102.58407239, 142.38648914,  57.2136096 ,\n",
       "        82.30518502,  31.09151893,  11.48641747,  46.9403868 ,\n",
       "         6.44477975, 105.75044577,  82.56944063,  78.20813717,\n",
       "       131.44867252, 149.52450325,  89.99134091, 168.57118068,\n",
       "        82.50817549,  96.06352192,  11.19110443,  11.33061259,\n",
       "       133.07725317,   7.0517486 , 108.29501369,  27.78305891,\n",
       "        28.33415088, 136.36935235, 158.88102226, 160.91427485,\n",
       "        87.37828435, 138.15460197,  33.86380827,  17.76055974,\n",
       "       151.52553582, 107.81641229,  36.83917279,  50.93203981,\n",
       "       152.30688591, 141.70487156, 130.15103829,  10.10437046,\n",
       "        88.91119181,  84.16270295, 142.18487227, 144.68263996,\n",
       "         8.54104137,  97.6705638 , 149.24796593, 151.7243298 ,\n",
       "        56.53069313, 126.19465205, 154.39019939,  86.07849658,\n",
       "       135.71796598,  10.98181254,  77.41021435, 100.5620068 ,\n",
       "        82.00757919,  73.66887575,  17.45329576,  96.44456448,\n",
       "        46.90276439,  26.13209659,  34.25610554, 125.03177025,\n",
       "        80.38388156,  88.38498973,   8.53231479,  80.86809131,\n",
       "        33.53815803, 141.39624079])"
      ]
     },
     "execution_count": 31,
     "metadata": {},
     "output_type": "execute_result"
    }
   ],
   "source": [
    "y_pred"
   ]
  },
  {
   "cell_type": "code",
   "execution_count": 32,
   "metadata": {},
   "outputs": [
    {
     "data": {
      "text/plain": [
       "array([[  7.9],\n",
       "       [ 52.7],\n",
       "       [177. ],\n",
       "       [ 85.4],\n",
       "       [ 24.5],\n",
       "       [ 79.9],\n",
       "       [ 35. ],\n",
       "       [ 29.2],\n",
       "       [ 14.6],\n",
       "       [171.2],\n",
       "       [  7.6],\n",
       "       [155.1],\n",
       "       [ 83. ],\n",
       "       [135. ],\n",
       "       [ 50.5],\n",
       "       [ 87.3],\n",
       "       [ 47.7],\n",
       "       [136.4],\n",
       "       [ 40.6],\n",
       "       [105.5],\n",
       "       [ 95.1],\n",
       "       [177.8],\n",
       "       [ 25.8],\n",
       "       [ 79.6],\n",
       "       [ 79.6],\n",
       "       [129.9],\n",
       "       [ 35.8],\n",
       "       [ 33.4],\n",
       "       [ 11.5],\n",
       "       [ 33.6],\n",
       "       [162.6],\n",
       "       [ 39. ],\n",
       "       [ 27.4],\n",
       "       [ 40. ],\n",
       "       [ 26.4],\n",
       "       [164.4],\n",
       "       [ 88.2],\n",
       "       [ 26. ],\n",
       "       [ 98.5],\n",
       "       [ 35.2],\n",
       "       [  7.7],\n",
       "       [ 81.4],\n",
       "       [117.8],\n",
       "       [ 97.2],\n",
       "       [ 83.1],\n",
       "       [171.9],\n",
       "       [ 33.3],\n",
       "       [ 35.4],\n",
       "       [ 36.2],\n",
       "       [126.7],\n",
       "       [110.1],\n",
       "       [ 97.7],\n",
       "       [110.9],\n",
       "       [ 88.9],\n",
       "       [ 11.5],\n",
       "       [ 32.6],\n",
       "       [ 87. ],\n",
       "       [ 92.3],\n",
       "       [124.4],\n",
       "       [ 83.8],\n",
       "       [ 39. ],\n",
       "       [ 31. ],\n",
       "       [ 48.1],\n",
       "       [ 27. ],\n",
       "       [ 36.9],\n",
       "       [ 85.6],\n",
       "       [ 97.2],\n",
       "       [133.2],\n",
       "       [125.8],\n",
       "       [ 93.8],\n",
       "       [ 39.6],\n",
       "       [141.6],\n",
       "       [ 84.4],\n",
       "       [177.1],\n",
       "       [133.8],\n",
       "       [ 54.7],\n",
       "       [ 11.5],\n",
       "       [144.5],\n",
       "       [ 55.2],\n",
       "       [ 39.6],\n",
       "       [147.6],\n",
       "       [155.8],\n",
       "       [125.8],\n",
       "       [106.2],\n",
       "       [108.1],\n",
       "       [ 32.6],\n",
       "       [  7.6],\n",
       "       [ 40.6],\n",
       "       [ 26.5],\n",
       "       [ 60.4],\n",
       "       [ 46.5],\n",
       "       [ 34. ],\n",
       "       [116. ],\n",
       "       [  8. ],\n",
       "       [ 40.3],\n",
       "       [ 72.7],\n",
       "       [137.3],\n",
       "       [ 95.3],\n",
       "       [ 11.5],\n",
       "       [ 79.9],\n",
       "       [163.7],\n",
       "       [164.4],\n",
       "       [ 80.6],\n",
       "       [146.1],\n",
       "       [ 31.4],\n",
       "       [ 69.8],\n",
       "       [ 71.2],\n",
       "       [162.2],\n",
       "       [ 41.5],\n",
       "       [119.9],\n",
       "       [140.8],\n",
       "       [ 57.2],\n",
       "       [ 82. ],\n",
       "       [ 30.9],\n",
       "       [ 10.5],\n",
       "       [ 47.5],\n",
       "       [  7.9],\n",
       "       [107.1],\n",
       "       [ 79.9],\n",
       "       [ 84.5],\n",
       "       [109.5],\n",
       "       [138.4],\n",
       "       [ 98.8],\n",
       "       [166.1],\n",
       "       [ 83.1],\n",
       "       [ 92. ],\n",
       "       [ 11.5],\n",
       "       [ 12.7],\n",
       "       [133.8],\n",
       "       [  9. ],\n",
       "       [122.2],\n",
       "       [ 26.8],\n",
       "       [ 29.9],\n",
       "       [118.6],\n",
       "       [160.8],\n",
       "       [165.9],\n",
       "       [ 89.2],\n",
       "       [130.5],\n",
       "       [ 33. ],\n",
       "       [ 18.7],\n",
       "       [147. ],\n",
       "       [118.8],\n",
       "       [ 38.1],\n",
       "       [ 49.9],\n",
       "       [150.3],\n",
       "       [142.5],\n",
       "       [ 95.3],\n",
       "       [ 11.7],\n",
       "       [ 90. ],\n",
       "       [ 83.6],\n",
       "       [141. ],\n",
       "       [145.7],\n",
       "       [ 11.7],\n",
       "       [100.6],\n",
       "       [140.9],\n",
       "       [153.6],\n",
       "       [ 51.3],\n",
       "       [100. ],\n",
       "       [148.1],\n",
       "       [ 83.3],\n",
       "       [141.6],\n",
       "       [ 13.3],\n",
       "       [ 81.6],\n",
       "       [ 94.4],\n",
       "       [ 84.4],\n",
       "       [ 81.3],\n",
       "       [ 16.2],\n",
       "       [ 72.8],\n",
       "       [ 42.8],\n",
       "       [ 24.8],\n",
       "       [ 34.4],\n",
       "       [135.1],\n",
       "       [ 84. ],\n",
       "       [ 85.4],\n",
       "       [  7.9],\n",
       "       [ 86.8],\n",
       "       [ 33.1],\n",
       "       [140.9]])"
      ]
     },
     "execution_count": 32,
     "metadata": {},
     "output_type": "execute_result"
    }
   ],
   "source": [
    "y_test"
   ]
  },
  {
   "cell_type": "code",
   "execution_count": 33,
   "metadata": {},
   "outputs": [
    {
     "data": {
      "text/plain": [
       "[<matplotlib.lines.Line2D at 0x1d6e9cd0>]"
      ]
     },
     "execution_count": 33,
     "metadata": {},
     "output_type": "execute_result"
    },
    {
     "data": {
      "image/png": "[encoded data removed]",
      "text/plain": [
       "<Figure size 432x288 with 1 Axes>"
      ]
     },
     "metadata": {
      "needs_background": "light"
     },
     "output_type": "display_data"
    }
   ],
   "source": [
    "plt.plot(y_test,color=\"black\",linewidth=2)\n",
    "plt.plot(y_pred,color='yellow')"
   ]
  },
  {
   "cell_type": "code",
   "execution_count": 34,
   "metadata": {},
   "outputs": [
    {
     "name": "stdout",
     "output_type": "stream",
     "text": [
      "0.9772637811343013\n"
     ]
    }
   ],
   "source": [
    "from sklearn.metrics import r2_score\n",
    "print(r2_score(y_test,y_pred))"
   ]
  },
  {
   "cell_type": "code",
   "execution_count": null,
   "metadata": {},
   "outputs": [],
   "source": []
  },
  {
   "cell_type": "code",
   "execution_count": null,
   "metadata": {},
   "outputs": [],
   "source": []
  },
  {
   "cell_type": "code",
   "execution_count": null,
   "metadata": {},
   "outputs": [],
   "source": []
  }
 ],
 "metadata": {
  "kernelspec": {
   "display_name": "Python 3",
   "language": "python",
   "name": "python3"
  },
  "language_info": {
   "codemirror_mode": {
    "name": "ipython",
    "version": 3
   },
   "file_extension": ".py",
   "mimetype": "text/x-python",
   "name": "python",
   "nbconvert_exporter": "python",
   "pygments_lexer": "ipython3",
   "version": "3.7.2"
  }
 },
 "nbformat": 4,
 "nbformat_minor": 2
}
